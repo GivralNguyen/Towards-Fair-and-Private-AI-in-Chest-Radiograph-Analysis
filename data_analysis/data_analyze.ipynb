{
 "cells": [
  {
   "cell_type": "code",
   "execution_count": 1,
   "metadata": {},
   "outputs": [],
   "source": [
    "import pandas as pd"
   ]
  },
  {
   "cell_type": "code",
   "execution_count": 2,
   "metadata": {},
   "outputs": [],
   "source": [
    "# CheXpert images can be found: https://stanfordaimi.azurewebsites.net/datasets/8cbd9ed4-2eb9-4565-affc-111cf4f7ebe2\n",
    "data_df = pd.read_csv('../data/train_cheXbert.csv') #223414,19 \n",
    "\n",
    "# Demographic labels can be found: https://stanfordaimi.azurewebsites.net/datasets/192ada7c-4d43-466e-b8bb-b81992bb80cf\n",
    "demo_df = pd.DataFrame(pd.read_excel(\"../data/CHEXPERT_DEMO.xlsx\", engine='openpyxl')) #pip install openpyxl, 65401,5\n"
   ]
  },
  {
   "cell_type": "code",
   "execution_count": 3,
   "metadata": {
    "collapsed": false
   },
   "outputs": [
    {
     "data": {
      "text/html": [
       "<div>\n",
       "<style scoped>\n",
       "    .dataframe tbody tr th:only-of-type {\n",
       "        vertical-align: middle;\n",
       "    }\n",
       "\n",
       "    .dataframe tbody tr th {\n",
       "        vertical-align: top;\n",
       "    }\n",
       "\n",
       "    .dataframe thead th {\n",
       "        text-align: right;\n",
       "    }\n",
       "</style>\n",
       "<table border=\"1\" class=\"dataframe\">\n",
       "  <thead>\n",
       "    <tr style=\"text-align: right;\">\n",
       "      <th></th>\n",
       "      <th>PATIENT</th>\n",
       "      <th>GENDER</th>\n",
       "      <th>AGE_AT_CXR</th>\n",
       "      <th>PRIMARY_RACE</th>\n",
       "      <th>ETHNICITY</th>\n",
       "    </tr>\n",
       "  </thead>\n",
       "  <tbody>\n",
       "  </tbody>\n",
       "</table>\n",
       "</div>"
      ],
      "text/plain": [
       "Empty DataFrame\n",
       "Columns: [PATIENT, GENDER, AGE_AT_CXR, PRIMARY_RACE, ETHNICITY]\n",
       "Index: []"
      ]
     },
     "execution_count": 3,
     "metadata": {},
     "output_type": "execute_result"
    }
   ],
   "source": [
    "#select row 0 \n",
    "demo_df[:0]"
   ]
  },
  {
   "cell_type": "code",
   "execution_count": 5,
   "metadata": {
    "collapsed": false
   },
   "outputs": [
    {
     "data": {
      "text/html": [
       "<div>\n",
       "<style scoped>\n",
       "    .dataframe tbody tr th:only-of-type {\n",
       "        vertical-align: middle;\n",
       "    }\n",
       "\n",
       "    .dataframe tbody tr th {\n",
       "        vertical-align: top;\n",
       "    }\n",
       "\n",
       "    .dataframe thead th {\n",
       "        text-align: right;\n",
       "    }\n",
       "</style>\n",
       "<table border=\"1\" class=\"dataframe\">\n",
       "  <thead>\n",
       "    <tr style=\"text-align: right;\">\n",
       "      <th></th>\n",
       "      <th>Path</th>\n",
       "      <th>Sex</th>\n",
       "      <th>Age</th>\n",
       "      <th>Frontal/Lateral</th>\n",
       "      <th>AP/PA</th>\n",
       "      <th>Enlarged Cardiomediastinum</th>\n",
       "      <th>Cardiomegaly</th>\n",
       "      <th>Lung Opacity</th>\n",
       "      <th>Lung Lesion</th>\n",
       "      <th>Edema</th>\n",
       "      <th>Consolidation</th>\n",
       "      <th>Pneumonia</th>\n",
       "      <th>Atelectasis</th>\n",
       "      <th>Pneumothorax</th>\n",
       "      <th>Pleural Effusion</th>\n",
       "      <th>Pleural Other</th>\n",
       "      <th>Fracture</th>\n",
       "      <th>Support Devices</th>\n",
       "      <th>No Finding</th>\n",
       "    </tr>\n",
       "  </thead>\n",
       "  <tbody>\n",
       "  </tbody>\n",
       "</table>\n",
       "</div>"
      ],
      "text/plain": [
       "Empty DataFrame\n",
       "Columns: [Path, Sex, Age, Frontal/Lateral, AP/PA, Enlarged Cardiomediastinum, Cardiomegaly, Lung Opacity, Lung Lesion, Edema, Consolidation, Pneumonia, Atelectasis, Pneumothorax, Pleural Effusion, Pleural Other, Fracture, Support Devices, No Finding]\n",
       "Index: []"
      ]
     },
     "execution_count": 5,
     "metadata": {},
     "output_type": "execute_result"
    }
   ],
   "source": [
    "#select row 0 \n",
    "data_df[:0]"
   ]
  },
  {
   "cell_type": "code",
   "execution_count": 6,
   "metadata": {
    "collapsed": false
   },
   "outputs": [
    {
     "name": "stdout",
     "output_type": "stream",
     "text": [
      "Number of images: 223414\n"
     ]
    }
   ],
   "source": [
    "print(\"Number of images: \" + str(len(data_df)))"
   ]
  },
  {
   "cell_type": "code",
   "execution_count": 7,
   "metadata": {
    "collapsed": false
   },
   "outputs": [
    {
     "name": "stdout",
     "output_type": "stream",
     "text": [
      "Number of patients: 65401\n"
     ]
    }
   ],
   "source": [
    "print(\"Number of patients: \" + str(len(demo_df)))"
   ]
  },
  {
   "cell_type": "code",
   "execution_count": 8,
   "metadata": {
    "collapsed": false
   },
   "outputs": [],
   "source": [
    "split =  data_df.Path.str.split(\"/\", expand = True) # split the data path into various paths\n",
    "data_df[\"patient_id\"] = split[2] # add patient ID \n",
    "demo_df = demo_df.rename(columns={'PATIENT': 'patient_id'}) # rename column for consistency\n",
    "combine_df = data_df.merge(demo_df, on=\"patient_id\") # merge based on patient id "
   ]
  },
  {
   "cell_type": "code",
   "execution_count": 9,
   "metadata": {
    "collapsed": false
   },
   "outputs": [
    {
     "data": {
      "text/plain": [
       "PRIMARY_RACE\n",
       "White                                        102402\n",
       "Other                                         28095\n",
       "White, non-Hispanic                           22154\n",
       "Asian                                         20434\n",
       "Unknown                                       15186\n",
       "Black or African American                      9909\n",
       "Race and Ethnicity Unknown                     8716\n",
       "Other, Hispanic                                3621\n",
       "Native Hawaiian or Other Pacific Islander      2809\n",
       "Asian, non-Hispanic                            2793\n",
       "Black, non-Hispanic                            2000\n",
       "White, Hispanic                                 922\n",
       "Other, non-Hispanic                             566\n",
       "American Indian or Alaska Native                457\n",
       "Patient Refused                                 405\n",
       "Pacific Islander, non-Hispanic                  337\n",
       "Native American, non-Hispanic                    55\n",
       "Black, Hispanic                                  52\n",
       "Asian, Hispanic                                  37\n",
       "Native American, Hispanic                        25\n",
       "White or Caucasian                               13\n",
       "Pacific Islander, Hispanic                       10\n",
       "Asian - Historical Conv                           8\n",
       "Name: count, dtype: int64"
      ]
     },
     "execution_count": 9,
     "metadata": {},
     "output_type": "execute_result"
    }
   ],
   "source": [
    "combine_df.PRIMARY_RACE.value_counts() # count number of patient race"
   ]
  },
  {
   "cell_type": "code",
   "execution_count": 10,
   "metadata": {
    "collapsed": false
   },
   "outputs": [],
   "source": [
    "combine_df.insert(3, \"race\", \"\") # add race column"
   ]
  },
  {
   "cell_type": "code",
   "execution_count": 11,
   "metadata": {
    "collapsed": false
   },
   "outputs": [],
   "source": [
    "mask = (combine_df.PRIMARY_RACE.str.contains(\"Black\", na=False))\n",
    "combine_df.loc[mask, \"race\"] = \"BLACK/AFRICAN AMERICAN\" #group all black together\n",
    "\n",
    "mask = (combine_df.PRIMARY_RACE.str.contains(\"White\", na=False))\n",
    "combine_df.loc[mask, \"race\"] = \"WHITE\"\n",
    "\n",
    "mask = (combine_df.PRIMARY_RACE.str.contains(\"Asian\", na=False))\n",
    "combine_df.loc[mask, \"race\"] = \"ASIAN\""
   ]
  },
  {
   "cell_type": "code",
   "execution_count": 12,
   "metadata": {
    "collapsed": false
   },
   "outputs": [],
   "source": [
    "#remove all labels that are not asian, black or white\n",
    "combine_df = combine_df[combine_df.race.isin(['ASIAN','BLACK/AFRICAN AMERICAN','WHITE'])]"
   ]
  },
  {
   "cell_type": "code",
   "execution_count": 13,
   "metadata": {
    "collapsed": false
   },
   "outputs": [
    {
     "data": {
      "text/plain": [
       "ETHNICITY\n",
       "Non-Hispanic/Non-Latino    149268\n",
       "Unknown                      6546\n",
       "Hispanic/Latino              4726\n",
       "Patient Refused               160\n",
       "Not Hispanic                   15\n",
       "Hispanic                        1\n",
       "Name: count, dtype: int64"
      ]
     },
     "execution_count": 13,
     "metadata": {},
     "output_type": "execute_result"
    }
   ],
   "source": [
    "combine_df.ETHNICITY.value_counts()"
   ]
  },
  {
   "cell_type": "code",
   "execution_count": 14,
   "metadata": {
    "collapsed": false
   },
   "outputs": [],
   "source": [
    "#keep only non-hispanic labels\n",
    "combine_df = combine_df[combine_df.ETHNICITY.isin([\"Non-Hispanic/Non-Latino\",\"Not Hispanic\"])]"
   ]
  },
  {
   "cell_type": "code",
   "execution_count": 15,
   "metadata": {
    "collapsed": false
   },
   "outputs": [],
   "source": [
    "#frontal images only (AP/PA)\n",
    "combine_df = combine_df[combine_df[\"Frontal/Lateral\"]==\"Frontal\"]"
   ]
  },
  {
   "cell_type": "code",
   "execution_count": 16,
   "metadata": {
    "collapsed": false
   },
   "outputs": [
    {
     "name": "stdout",
     "output_type": "stream",
     "text": [
      "Total images after inclusion/exclusion criteria: 127130\n"
     ]
    }
   ],
   "source": [
    "print(\"Total images after inclusion/exclusion criteria: \" + str(len(combine_df)))"
   ]
  },
  {
   "cell_type": "code",
   "execution_count": 17,
   "metadata": {
    "collapsed": false
   },
   "outputs": [
    {
     "name": "stdout",
     "output_type": "stream",
     "text": [
      "Total patients after inclusion/exclusion criteria: 42884\n"
     ]
    }
   ],
   "source": [
    "print(\"Total patients after inclusion/exclusion criteria: \" + str(combine_df.patient_id.nunique()))"
   ]
  },
  {
   "cell_type": "code",
   "execution_count": 18,
   "metadata": {
    "collapsed": false
   },
   "outputs": [],
   "source": [
    "from sklearn.utils import shuffle\n",
    "data_df = combine_df\n",
    "data_df.insert(5, \"split\",\"none\", True)\n",
    "unique_sub_id = data_df.patient_id.unique()\n",
    "\n",
    "train_percent, valid_percent, test_percent = 0.60, 0.10, 0.30\n",
    "\n",
    "unique_sub_id = shuffle(unique_sub_id)\n",
    "value1 = (round(len(unique_sub_id)*train_percent))\n",
    "value2 = (round(len(unique_sub_id)*valid_percent))\n",
    "value3 = value1 + value2\n",
    "value4 = (round(len(unique_sub_id)*test_percent))"
   ]
  },
  {
   "cell_type": "code",
   "execution_count": 19,
   "metadata": {
    "collapsed": false
   },
   "outputs": [
    {
     "name": "stdout",
     "output_type": "stream",
     "text": [
      "Patients in training set: 25730\n"
     ]
    }
   ],
   "source": [
    "print(\"Patients in training set: \" + str(value1))"
   ]
  },
  {
   "cell_type": "code",
   "execution_count": 20,
   "metadata": {
    "collapsed": false
   },
   "outputs": [
    {
     "name": "stdout",
     "output_type": "stream",
     "text": [
      "Patients in validation set: 4288\n"
     ]
    }
   ],
   "source": [
    "print(\"Patients in validation set: \" + str(value2))"
   ]
  },
  {
   "cell_type": "code",
   "execution_count": 21,
   "metadata": {
    "collapsed": false
   },
   "outputs": [
    {
     "name": "stdout",
     "output_type": "stream",
     "text": [
      "Patients in testing set: 12865\n"
     ]
    }
   ],
   "source": [
    "print(\"Patients in testing set: \" + str(value4))"
   ]
  },
  {
   "cell_type": "code",
   "execution_count": 22,
   "metadata": {
    "collapsed": false
   },
   "outputs": [],
   "source": [
    "data_df = shuffle(data_df)\n",
    "\n",
    "train_sub_id = unique_sub_id[:value1]\n",
    "validate_sub_id = unique_sub_id[value1:value3]\n",
    "test_sub_id = unique_sub_id[value3:]"
   ]
  },
  {
   "cell_type": "code",
   "execution_count": 23,
   "metadata": {
    "collapsed": false
   },
   "outputs": [],
   "source": [
    "data_df.loc[data_df.patient_id.isin(train_sub_id), \"split\"]=\"train\"\n",
    "data_df.loc[data_df.patient_id.isin(validate_sub_id), \"split\"]=\"validate\"\n",
    "data_df.loc[data_df.patient_id.isin(test_sub_id), \"split\"]=\"test\""
   ]
  },
  {
   "cell_type": "code",
   "execution_count": 24,
   "metadata": {
    "collapsed": false
   },
   "outputs": [
    {
     "data": {
      "text/plain": [
       "split\n",
       "train       0.601329\n",
       "test        0.296972\n",
       "validate    0.101699\n",
       "Name: proportion, dtype: float64"
      ]
     },
     "execution_count": 24,
     "metadata": {},
     "output_type": "execute_result"
    }
   ],
   "source": [
    "data_df.split.value_counts(normalize=True)"
   ]
  },
  {
   "cell_type": "code",
   "execution_count": 25,
   "metadata": {
    "collapsed": false
   },
   "outputs": [
    {
     "data": {
      "text/plain": [
       "race\n",
       "WHITE                     99037\n",
       "ASIAN                     18830\n",
       "BLACK/AFRICAN AMERICAN     9263\n",
       "Name: count, dtype: int64"
      ]
     },
     "execution_count": 25,
     "metadata": {},
     "output_type": "execute_result"
    }
   ],
   "source": [
    "data_df.race.value_counts()"
   ]
  },
  {
   "cell_type": "code",
   "execution_count": 26,
   "metadata": {
    "collapsed": false
   },
   "outputs": [
    {
     "data": {
      "text/plain": [
       "race\n",
       "WHITE                     0.779021\n",
       "ASIAN                     0.148116\n",
       "BLACK/AFRICAN AMERICAN    0.072862\n",
       "Name: proportion, dtype: float64"
      ]
     },
     "execution_count": 26,
     "metadata": {},
     "output_type": "execute_result"
    }
   ],
   "source": [
    "data_df.race.value_counts(normalize=True)"
   ]
  },
  {
   "cell_type": "code",
   "execution_count": null,
   "metadata": {},
   "outputs": [],
   "source": [
    "data_df.race.value_counts()"
   ]
  },
  {
   "cell_type": "code",
   "execution_count": 27,
   "metadata": {
    "collapsed": false
   },
   "outputs": [],
   "source": [
    "#clean up\n",
    "data_df = data_df.sort_values(by=['Path'])\n",
    "data_df = data_df.reset_index()\n",
    "data_df = data_df.drop(columns=['index'])"
   ]
  },
  {
   "cell_type": "code",
   "execution_count": 28,
   "metadata": {
    "collapsed": false
   },
   "outputs": [],
   "source": [
    "data_df = data_df[data_df[\"AP/PA\"].isin(['AP','PA'])]"
   ]
  },
  {
   "cell_type": "code",
   "execution_count": 29,
   "metadata": {
    "collapsed": false
   },
   "outputs": [],
   "source": [
    "train_df = data_df[data_df.split==\"train\"]\n",
    "validation_df = data_df[data_df.split==\"validate\"]\n",
    "test_df = data_df[data_df.split==\"test\"]"
   ]
  },
  {
   "cell_type": "code",
   "execution_count": 30,
   "metadata": {
    "collapsed": false
   },
   "outputs": [
    {
     "data": {
      "text/plain": [
       "False"
      ]
     },
     "execution_count": 30,
     "metadata": {},
     "output_type": "execute_result"
    }
   ],
   "source": [
    "#False indicates no patient_id shared between groups\n",
    "import numpy as np\n",
    "unique_train_id = train_df.patient_id.unique()\n",
    "unique_validation_id = validation_df.patient_id.unique()\n",
    "unique_test_id = test_df.patient_id.unique()\n",
    "all_id = np.concatenate((unique_train_id, unique_validation_id, unique_test_id), axis=None)\n",
    "\n",
    "def contains_duplicates(X):\n",
    "    return len(np.unique(X)) != len(X)\n",
    "\n",
    "contains_duplicates(all_id)"
   ]
  }
 ],
 "metadata": {
  "kernelspec": {
   "display_name": "Python 3.11.5 ('ngq')",
   "language": "python",
   "name": "python3"
  },
  "language_info": {
   "codemirror_mode": {
    "name": "ipython",
    "version": 3
   },
   "file_extension": ".py",
   "mimetype": "text/x-python",
   "name": "python",
   "nbconvert_exporter": "python",
   "pygments_lexer": "ipython3",
   "version": "3.11.5"
  },
  "orig_nbformat": 4,
  "vscode": {
   "interpreter": {
    "hash": "ba465c84e919f63c1fcea8a9313ad40cbd796fe75f88961d3859ed2da624cdac"
   }
  }
 },
 "nbformat": 4,
 "nbformat_minor": 2
}
