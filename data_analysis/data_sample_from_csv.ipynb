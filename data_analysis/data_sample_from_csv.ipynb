{
 "cells": [
  {
   "cell_type": "code",
   "execution_count": 1,
   "metadata": {},
   "outputs": [],
   "source": [
    "import os\n",
    "import pandas as pd\n",
    "import numpy as np\n",
    "import matplotlib.pyplot as plt\n",
    "import seaborn as sns\n",
    "from tqdm import tqdm"
   ]
  },
  {
   "cell_type": "markdown",
   "metadata": {},
   "source": [
    "Study population"
   ]
  },
  {
   "cell_type": "code",
   "execution_count": 2,
   "metadata": {},
   "outputs": [
    {
     "data": {
      "text/html": [
       "<div>\n",
       "<style scoped>\n",
       "    .dataframe tbody tr th:only-of-type {\n",
       "        vertical-align: middle;\n",
       "    }\n",
       "\n",
       "    .dataframe tbody tr th {\n",
       "        vertical-align: top;\n",
       "    }\n",
       "\n",
       "    .dataframe thead th {\n",
       "        text-align: right;\n",
       "    }\n",
       "</style>\n",
       "<table border=\"1\" class=\"dataframe\">\n",
       "  <thead>\n",
       "    <tr style=\"text-align: right;\">\n",
       "      <th></th>\n",
       "      <th>patient_id</th>\n",
       "      <th>race</th>\n",
       "      <th>ethnicity</th>\n",
       "    </tr>\n",
       "  </thead>\n",
       "  <tbody>\n",
       "    <tr>\n",
       "      <th>0</th>\n",
       "      <td>patient24428</td>\n",
       "      <td>White</td>\n",
       "      <td>Non-Hispanic/Non-Latino</td>\n",
       "    </tr>\n",
       "    <tr>\n",
       "      <th>1</th>\n",
       "      <td>patient48289</td>\n",
       "      <td>Other</td>\n",
       "      <td>Hispanic/Latino</td>\n",
       "    </tr>\n",
       "    <tr>\n",
       "      <th>2</th>\n",
       "      <td>patient33856</td>\n",
       "      <td>White</td>\n",
       "      <td>Non-Hispanic/Non-Latino</td>\n",
       "    </tr>\n",
       "    <tr>\n",
       "      <th>3</th>\n",
       "      <td>patient41673</td>\n",
       "      <td>Unknown</td>\n",
       "      <td>Unknown</td>\n",
       "    </tr>\n",
       "    <tr>\n",
       "      <th>4</th>\n",
       "      <td>patient48493</td>\n",
       "      <td>White</td>\n",
       "      <td>Non-Hispanic/Non-Latino</td>\n",
       "    </tr>\n",
       "  </tbody>\n",
       "</table>\n",
       "</div>"
      ],
      "text/plain": [
       "     patient_id     race                ethnicity\n",
       "0  patient24428    White  Non-Hispanic/Non-Latino\n",
       "1  patient48289    Other          Hispanic/Latino\n",
       "2  patient33856    White  Non-Hispanic/Non-Latino\n",
       "3  patient41673  Unknown                  Unknown\n",
       "4  patient48493    White  Non-Hispanic/Non-Latino"
      ]
     },
     "execution_count": 2,
     "metadata": {},
     "output_type": "execute_result"
    }
   ],
   "source": [
    "data_dir = '../data/'\n",
    "df_demo = pd.DataFrame(pd.read_excel(data_dir + 'CHEXPERT_DEMO.xlsx', engine='openpyxl'))\n",
    "\n",
    "df_demo = df_demo.rename(columns={'PRIMARY_RACE': 'race'})\n",
    "df_demo = df_demo.rename(columns={'PATIENT': 'patient_id'})\n",
    "df_demo = df_demo.rename(columns={'GENDER': 'sex'})\n",
    "df_demo = df_demo.rename(columns={'AGE_AT_CXR': 'age'})\n",
    "df_demo = df_demo.rename(columns={'ETHNICITY': 'ethnicity'})\n",
    "df_demo = df_demo.drop(['sex', 'age'], axis=1)\n",
    "df_demo.head()"
   ]
  },
  {
   "cell_type": "code",
   "execution_count": 3,
   "metadata": {},
   "outputs": [
    {
     "name": "stdout",
     "output_type": "stream",
     "text": [
      "(127118, 2)\n",
      "(223414, 19)\n",
      "(127118, 21)\n",
      "(127118, 22)\n"
     ]
    }
   ],
   "source": [
    "df_data_split = pd.read_csv(data_dir + 'chexpert_split_2021_08_20.csv').set_index('index')\n",
    "print(df_data_split.shape)\n",
    "\n",
    "df_img_data = pd.read_csv(data_dir + 'train_cheXbert.csv')\n",
    "print(df_img_data.shape)\n",
    "df_img_data = pd.concat([df_img_data,df_data_split], axis=1)\n",
    "df_img_data = df_img_data[~df_img_data.split.isna()]\n",
    "print(df_img_data.shape)\n",
    "split =  df_img_data.Path.str.split(\"/\", expand = True)\n",
    "df_img_data[\"patient_id\"] = split[2]\n",
    "df_img_data = df_img_data.rename(columns={'Age': 'age'})\n",
    "df_img_data = df_img_data.rename(columns={'Sex': 'sex'})\n",
    "df_img_data.head()\n",
    "print(df_img_data.shape)"
   ]
  },
  {
   "cell_type": "code",
   "execution_count": 4,
   "metadata": {},
   "outputs": [
    {
     "name": "stdout",
     "output_type": "stream",
     "text": [
      "(127118, 24)\n"
     ]
    }
   ],
   "source": [
    "df_cxr = df_demo.merge(df_img_data, on=\"patient_id\")\n",
    "df_cxr.head()\n",
    "print(df_cxr.shape)"
   ]
  },
  {
   "cell_type": "code",
   "execution_count": 5,
   "metadata": {},
   "outputs": [],
   "source": [
    "white = 'White'\n",
    "asian = 'Asian'\n",
    "black = 'Black'"
   ]
  },
  {
   "cell_type": "code",
   "execution_count": 6,
   "metadata": {},
   "outputs": [
    {
     "name": "stdout",
     "output_type": "stream",
     "text": [
      "(127118, 24)\n"
     ]
    }
   ],
   "source": [
    "mask = (df_cxr.race.str.contains(\"Black\", na=False))\n",
    "df_cxr.loc[mask, \"race\"] = black\n",
    "\n",
    "mask = (df_cxr.race.str.contains(\"White\", na=False))\n",
    "df_cxr.loc[mask, \"race\"] = white\n",
    "\n",
    "mask = (df_cxr.race.str.contains(\"Asian\", na=False))\n",
    "df_cxr.loc[mask, \"race\"] = asian\n",
    "\n",
    "df_cxr['race'].unique()\n",
    "print(df_cxr.shape)"
   ]
  },
  {
   "cell_type": "code",
   "execution_count": 7,
   "metadata": {},
   "outputs": [
    {
     "name": "stdout",
     "output_type": "stream",
     "text": [
      "(127118, 24)\n"
     ]
    }
   ],
   "source": [
    "df_cxr = df_cxr[df_cxr.race.isin([asian,black,white])]\n",
    "print(df_cxr.shape)"
   ]
  },
  {
   "cell_type": "code",
   "execution_count": 8,
   "metadata": {},
   "outputs": [
    {
     "name": "stdout",
     "output_type": "stream",
     "text": [
      "(127118, 24)\n"
     ]
    }
   ],
   "source": [
    "df_cxr = df_cxr[df_cxr.ethnicity.isin([\"Non-Hispanic/Non-Latino\",\"Not Hispanic\"])]\n",
    "print(df_cxr.shape)"
   ]
  },
  {
   "cell_type": "code",
   "execution_count": 9,
   "metadata": {},
   "outputs": [
    {
     "name": "stdout",
     "output_type": "stream",
     "text": [
      "(127118, 24)\n"
     ]
    }
   ],
   "source": [
    "df_cxr = df_cxr[df_cxr[\"Frontal/Lateral\"]==\"Frontal\"]\n",
    "print(df_cxr.shape)"
   ]
  },
  {
   "cell_type": "code",
   "execution_count": 10,
   "metadata": {},
   "outputs": [
    {
     "name": "stdout",
     "output_type": "stream",
     "text": [
      "(127118, 25)\n"
     ]
    }
   ],
   "source": [
    "df_cxr['race_label'] = df_cxr['race']\n",
    "\n",
    "df_cxr.loc[df_cxr['race_label'] == white, 'race_label'] = 0\n",
    "df_cxr.loc[df_cxr['race_label'] == asian, 'race_label'] = 1\n",
    "df_cxr.loc[df_cxr['race_label'] == black, 'race_label'] = 2\n",
    "print(df_cxr.shape)"
   ]
  },
  {
   "cell_type": "code",
   "execution_count": 11,
   "metadata": {},
   "outputs": [
    {
     "name": "stdout",
     "output_type": "stream",
     "text": [
      "(127118, 26)\n"
     ]
    }
   ],
   "source": [
    "df_cxr['sex_label'] = df_cxr['sex']\n",
    "\n",
    "df_cxr.loc[df_cxr['sex_label'] == 'Male', 'sex_label'] = 0\n",
    "df_cxr.loc[df_cxr['sex_label'] == 'Female', 'sex_label'] = 1\n",
    "print(df_cxr.shape)"
   ]
  },
  {
   "cell_type": "code",
   "execution_count": 12,
   "metadata": {},
   "outputs": [],
   "source": [
    "labels = [\n",
    "    'No Finding',\n",
    "    'Enlarged Cardiomediastinum',\n",
    "    'Cardiomegaly',\n",
    "    'Lung Opacity',\n",
    "    'Lung Lesion',\n",
    "    'Edema',\n",
    "    'Consolidation',\n",
    "    'Pneumonia',\n",
    "    'Atelectasis',\n",
    "    'Pneumothorax',\n",
    "    'Pleural Effusion',\n",
    "    'Pleural Other',\n",
    "    'Fracture',\n",
    "    'Support Devices']"
   ]
  },
  {
   "cell_type": "code",
   "execution_count": 13,
   "metadata": {},
   "outputs": [
    {
     "name": "stdout",
     "output_type": "stream",
     "text": [
      "(127118, 27)\n",
      "(127118, 28)\n"
     ]
    },
    {
     "name": "stderr",
     "output_type": "stream",
     "text": [
      "/tmp/ipykernel_17918/2995295540.py:2: FutureWarning: Setting an item of incompatible dtype is deprecated and will raise in a future error of pandas. Value 'No Finding' has dtype incompatible with float64, please explicitly cast to a compatible dtype first.\n",
      "  df_cxr.loc[df_cxr[labels[0]] == 1, 'disease'] = labels[0]\n"
     ]
    },
    {
     "data": {
      "text/html": [
       "<div>\n",
       "<style scoped>\n",
       "    .dataframe tbody tr th:only-of-type {\n",
       "        vertical-align: middle;\n",
       "    }\n",
       "\n",
       "    .dataframe tbody tr th {\n",
       "        vertical-align: top;\n",
       "    }\n",
       "\n",
       "    .dataframe thead th {\n",
       "        text-align: right;\n",
       "    }\n",
       "</style>\n",
       "<table border=\"1\" class=\"dataframe\">\n",
       "  <thead>\n",
       "    <tr style=\"text-align: right;\">\n",
       "      <th></th>\n",
       "      <th>patient_id</th>\n",
       "      <th>race</th>\n",
       "      <th>ethnicity</th>\n",
       "      <th>Path</th>\n",
       "      <th>sex</th>\n",
       "      <th>age</th>\n",
       "      <th>Frontal/Lateral</th>\n",
       "      <th>AP/PA</th>\n",
       "      <th>Enlarged Cardiomediastinum</th>\n",
       "      <th>Cardiomegaly</th>\n",
       "      <th>...</th>\n",
       "      <th>Pleural Other</th>\n",
       "      <th>Fracture</th>\n",
       "      <th>Support Devices</th>\n",
       "      <th>No Finding</th>\n",
       "      <th>Unnamed: 0</th>\n",
       "      <th>split</th>\n",
       "      <th>race_label</th>\n",
       "      <th>sex_label</th>\n",
       "      <th>disease</th>\n",
       "      <th>disease_label</th>\n",
       "    </tr>\n",
       "  </thead>\n",
       "  <tbody>\n",
       "    <tr>\n",
       "      <th>0</th>\n",
       "      <td>patient24428</td>\n",
       "      <td>White</td>\n",
       "      <td>Non-Hispanic/Non-Latino</td>\n",
       "      <td>CheXpert-v1.0/train/patient24428/study22/view1...</td>\n",
       "      <td>Male</td>\n",
       "      <td>59</td>\n",
       "      <td>Frontal</td>\n",
       "      <td>AP</td>\n",
       "      <td>NaN</td>\n",
       "      <td>NaN</td>\n",
       "      <td>...</td>\n",
       "      <td>NaN</td>\n",
       "      <td>NaN</td>\n",
       "      <td>1.0</td>\n",
       "      <td>NaN</td>\n",
       "      <td>53688.0</td>\n",
       "      <td>train</td>\n",
       "      <td>0</td>\n",
       "      <td>0</td>\n",
       "      <td>Other</td>\n",
       "      <td>2</td>\n",
       "    </tr>\n",
       "    <tr>\n",
       "      <th>1</th>\n",
       "      <td>patient24428</td>\n",
       "      <td>White</td>\n",
       "      <td>Non-Hispanic/Non-Latino</td>\n",
       "      <td>CheXpert-v1.0/train/patient24428/study39/view1...</td>\n",
       "      <td>Male</td>\n",
       "      <td>61</td>\n",
       "      <td>Frontal</td>\n",
       "      <td>PA</td>\n",
       "      <td>NaN</td>\n",
       "      <td>NaN</td>\n",
       "      <td>...</td>\n",
       "      <td>NaN</td>\n",
       "      <td>NaN</td>\n",
       "      <td>NaN</td>\n",
       "      <td>NaN</td>\n",
       "      <td>53689.0</td>\n",
       "      <td>train</td>\n",
       "      <td>0</td>\n",
       "      <td>0</td>\n",
       "      <td>Other</td>\n",
       "      <td>2</td>\n",
       "    </tr>\n",
       "    <tr>\n",
       "      <th>2</th>\n",
       "      <td>patient24428</td>\n",
       "      <td>White</td>\n",
       "      <td>Non-Hispanic/Non-Latino</td>\n",
       "      <td>CheXpert-v1.0/train/patient24428/study61/view1...</td>\n",
       "      <td>Male</td>\n",
       "      <td>61</td>\n",
       "      <td>Frontal</td>\n",
       "      <td>AP</td>\n",
       "      <td>NaN</td>\n",
       "      <td>NaN</td>\n",
       "      <td>...</td>\n",
       "      <td>NaN</td>\n",
       "      <td>NaN</td>\n",
       "      <td>1.0</td>\n",
       "      <td>NaN</td>\n",
       "      <td>53690.0</td>\n",
       "      <td>train</td>\n",
       "      <td>0</td>\n",
       "      <td>0</td>\n",
       "      <td>Pleural Effusion</td>\n",
       "      <td>1</td>\n",
       "    </tr>\n",
       "    <tr>\n",
       "      <th>3</th>\n",
       "      <td>patient24428</td>\n",
       "      <td>White</td>\n",
       "      <td>Non-Hispanic/Non-Latino</td>\n",
       "      <td>CheXpert-v1.0/train/patient24428/study35/view1...</td>\n",
       "      <td>Male</td>\n",
       "      <td>60</td>\n",
       "      <td>Frontal</td>\n",
       "      <td>AP</td>\n",
       "      <td>NaN</td>\n",
       "      <td>NaN</td>\n",
       "      <td>...</td>\n",
       "      <td>NaN</td>\n",
       "      <td>NaN</td>\n",
       "      <td>1.0</td>\n",
       "      <td>NaN</td>\n",
       "      <td>53691.0</td>\n",
       "      <td>train</td>\n",
       "      <td>0</td>\n",
       "      <td>0</td>\n",
       "      <td>Other</td>\n",
       "      <td>2</td>\n",
       "    </tr>\n",
       "    <tr>\n",
       "      <th>4</th>\n",
       "      <td>patient24428</td>\n",
       "      <td>White</td>\n",
       "      <td>Non-Hispanic/Non-Latino</td>\n",
       "      <td>CheXpert-v1.0/train/patient24428/study45/view1...</td>\n",
       "      <td>Male</td>\n",
       "      <td>61</td>\n",
       "      <td>Frontal</td>\n",
       "      <td>AP</td>\n",
       "      <td>NaN</td>\n",
       "      <td>NaN</td>\n",
       "      <td>...</td>\n",
       "      <td>NaN</td>\n",
       "      <td>NaN</td>\n",
       "      <td>1.0</td>\n",
       "      <td>NaN</td>\n",
       "      <td>53692.0</td>\n",
       "      <td>train</td>\n",
       "      <td>0</td>\n",
       "      <td>0</td>\n",
       "      <td>Pleural Effusion</td>\n",
       "      <td>1</td>\n",
       "    </tr>\n",
       "  </tbody>\n",
       "</table>\n",
       "<p>5 rows × 28 columns</p>\n",
       "</div>"
      ],
      "text/plain": [
       "     patient_id   race                ethnicity  \\\n",
       "0  patient24428  White  Non-Hispanic/Non-Latino   \n",
       "1  patient24428  White  Non-Hispanic/Non-Latino   \n",
       "2  patient24428  White  Non-Hispanic/Non-Latino   \n",
       "3  patient24428  White  Non-Hispanic/Non-Latino   \n",
       "4  patient24428  White  Non-Hispanic/Non-Latino   \n",
       "\n",
       "                                                Path   sex  age  \\\n",
       "0  CheXpert-v1.0/train/patient24428/study22/view1...  Male   59   \n",
       "1  CheXpert-v1.0/train/patient24428/study39/view1...  Male   61   \n",
       "2  CheXpert-v1.0/train/patient24428/study61/view1...  Male   61   \n",
       "3  CheXpert-v1.0/train/patient24428/study35/view1...  Male   60   \n",
       "4  CheXpert-v1.0/train/patient24428/study45/view1...  Male   61   \n",
       "\n",
       "  Frontal/Lateral AP/PA  Enlarged Cardiomediastinum  Cardiomegaly  ...  \\\n",
       "0         Frontal    AP                         NaN           NaN  ...   \n",
       "1         Frontal    PA                         NaN           NaN  ...   \n",
       "2         Frontal    AP                         NaN           NaN  ...   \n",
       "3         Frontal    AP                         NaN           NaN  ...   \n",
       "4         Frontal    AP                         NaN           NaN  ...   \n",
       "\n",
       "   Pleural Other  Fracture  Support Devices  No Finding  Unnamed: 0  split  \\\n",
       "0            NaN       NaN              1.0         NaN     53688.0  train   \n",
       "1            NaN       NaN              NaN         NaN     53689.0  train   \n",
       "2            NaN       NaN              1.0         NaN     53690.0  train   \n",
       "3            NaN       NaN              1.0         NaN     53691.0  train   \n",
       "4            NaN       NaN              1.0         NaN     53692.0  train   \n",
       "\n",
       "   race_label  sex_label           disease  disease_label  \n",
       "0           0          0             Other              2  \n",
       "1           0          0             Other              2  \n",
       "2           0          0  Pleural Effusion              1  \n",
       "3           0          0             Other              2  \n",
       "4           0          0  Pleural Effusion              1  \n",
       "\n",
       "[5 rows x 28 columns]"
      ]
     },
     "execution_count": 13,
     "metadata": {},
     "output_type": "execute_result"
    }
   ],
   "source": [
    "df_cxr['disease'] = df_cxr[labels[0]]\n",
    "df_cxr.loc[df_cxr[labels[0]] == 1, 'disease'] = labels[0]\n",
    "df_cxr.loc[df_cxr[labels[10]] == 1, 'disease'] = labels[10]\n",
    "df_cxr.loc[df_cxr['disease'].isna(), 'disease'] = 'Other'\n",
    "print(df_cxr.shape)\n",
    "df_cxr['disease_label'] = df_cxr['disease']\n",
    "df_cxr.loc[df_cxr['disease_label'] == labels[0], 'disease_label'] = 0\n",
    "df_cxr.loc[df_cxr['disease_label'] == labels[10], 'disease_label'] = 1\n",
    "df_cxr.loc[df_cxr['disease_label'] == 'Other', 'disease_label'] = 2\n",
    "print(df_cxr.shape)\n",
    "df_cxr.head()"
   ]
  }
 ],
 "metadata": {
  "kernelspec": {
   "display_name": "Python 3.9.12 ('pytorchgpu')",
   "language": "python",
   "name": "python3"
  },
  "language_info": {
   "codemirror_mode": {
    "name": "ipython",
    "version": 3
   },
   "file_extension": ".py",
   "mimetype": "text/x-python",
   "name": "python",
   "nbconvert_exporter": "python",
   "pygments_lexer": "ipython3",
   "version": "3.9.12"
  },
  "orig_nbformat": 4,
  "vscode": {
   "interpreter": {
    "hash": "0c2b9d299afa71cd357add909d8dd0ea9f1c67c54445ab4c031a4ce9e1db259e"
   }
  }
 },
 "nbformat": 4,
 "nbformat_minor": 2
}
